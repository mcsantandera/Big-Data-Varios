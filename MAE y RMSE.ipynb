{
 "cells": [
  {
   "cell_type": "markdown",
   "metadata": {},
   "source": [
    "# Laboratorio - Sistemas de Recomendación\n",
    "# "
   ]
  },
  {
   "cell_type": "code",
   "execution_count": 1,
   "metadata": {},
   "outputs": [],
   "source": [
    "import matplotlib.pyplot as plt\n",
    "%matplotlib inline"
   ]
  },
  {
   "cell_type": "code",
   "execution_count": 2,
   "metadata": {
    "scrolled": false
   },
   "outputs": [
    {
     "name": "stdout",
     "output_type": "stream",
     "text": [
      "-> training model\n",
      "training time: 0.002363000000000115\n",
      "-> individual test\n",
      "user 457, item 443, prediction 4.026022434234619\n",
      "recommendation for user 457: ['1682', '1681', '907', '1680', '1679']\n",
      "-> prediction test\n",
      "prediction time: 0.161848\n",
      "MAE: 0.8501912740150503\n",
      "RMSE: 1.0629951276561314\n",
      "-> recommendation test\n",
      "recommendation time: 0.7802439999999997\n"
     ]
    }
   ],
   "source": [
    "# Runs ItemAvg\n",
    "from src import testUserAvg\n",
    "testUserAvg.main()"
   ]
  },
  {
   "cell_type": "code",
   "execution_count": 3,
   "metadata": {},
   "outputs": [
    {
     "name": "stdout",
     "output_type": "stream",
     "text": [
      "-> training model\n",
      "training time: 0.003101999999999716\n",
      "-> individual test\n",
      "user 457, item 443, prediction 3.7933883666992188\n",
      "recommendation for user 457: ['1500', '1653', '1599', '1189', '1467']\n",
      "-> prediction test\n",
      "prediction time: 0.11823200000000034\n",
      "MAE: 0.8275684032890033\n",
      "RMSE: 1.0334113714152886\n",
      "-> recommendation test\n",
      "recommendation time: 1.0148169999999999\n"
     ]
    }
   ],
   "source": [
    "# Runs ItemAvg\n",
    "from src import testItemAvg\n",
    "testItemAvg.main()"
   ]
  },
  {
   "cell_type": "code",
   "execution_count": 4,
   "metadata": {},
   "outputs": [
    {
     "name": "stdout",
     "output_type": "stream",
     "text": [
      "-> training model\n",
      "training time: 0.5605669999999998\n",
      "-> individual test\n",
      "user 457, item 443, prediction 4.4962687492370605\n",
      "recommendation for user 457: ['1500', '1656', '1653', '1651', '1650']\n",
      "-> prediction test\n",
      "prediction time: 0.24180699999999966\n",
      "MAE: 0.7471245299823451\n",
      "RMSE: 0.950499582413917\n",
      "-> recommendation test\n",
      "recommendation time: 2.7324209999999995\n"
     ]
    }
   ],
   "source": [
    "# Runs SlopeOne\n",
    "from src import testSlopeOne\n",
    "testSlopeOne.main()"
   ]
  },
  {
   "cell_type": "code",
   "execution_count": 5,
   "metadata": {},
   "outputs": [
    {
     "name": "stdout",
     "output_type": "stream",
     "text": [
      "-> training model for k =10\n",
      "training time: 6.145063\n",
      "-> individual test\n",
      "user 457, item 443, prediction 4.36204195022583\n",
      "recommendation for user 457: ['1467', '1599', '1642', '1653', '1358']\n",
      "-> prediction test\n",
      "prediction time: 7.592665000000002\n",
      "MAE: 0.7767656495474826\n",
      "RMSE: 0.9888193333673915\n",
      "-> recommendation test\n",
      "recommendation time: 209.760042\n",
      "-> training model for k =50\n",
      "training time: 6.340500999999989\n",
      "-> individual test\n",
      "user 457, item 443, prediction 4.36233377456665\n",
      "recommendation for user 457: ['1467', '1599', '1642', '1653', '1358']\n",
      "-> prediction test\n",
      "prediction time: 8.929056000000003\n",
      "MAE: 0.7529654748945087\n",
      "RMSE: 0.9598757415248955\n",
      "-> recommendation test\n",
      "recommendation time: 241.63225299999996\n",
      "-> training model for k =100\n",
      "training time: 5.926482999999962\n",
      "-> individual test\n",
      "user 457, item 443, prediction 4.338381290435791\n",
      "recommendation for user 457: ['1467', '1599', '1642', '1653', '1358']\n",
      "-> prediction test\n",
      "prediction time: 8.713641000000052\n",
      "MAE: 0.7533991815654608\n",
      "RMSE: 0.9600979459211264\n",
      "-> recommendation test\n",
      "recommendation time: 229.35369899999995\n"
     ]
    }
   ],
   "source": [
    "# Runs UserKnn\n",
    "from src import testUserKnn\n",
    "\n",
    "k_values = [10, 50, 100]\n",
    "maeuser_values = []\n",
    "rmseuser_values = []\n",
    "\n",
    "for k in k_values:\n",
    "    maeuser, rmseuser = testUserKnn.main(k=k)\n",
    "    maeuser_values.append(maeuser)\n",
    "    rmseuser_values.append(rmseuser)"
   ]
  },
  {
   "cell_type": "code",
   "execution_count": 6,
   "metadata": {
    "scrolled": true
   },
   "outputs": [
    {
     "data": {
      "image/png": "[encoded data removed]",
      "text/plain": [
       "<Figure size 432x288 with 1 Axes>"
      ]
     },
     "metadata": {},
     "output_type": "display_data"
    }
   ],
   "source": [
    "# Plotting MAE values\n",
    "plt.plot(k_values, maeuser_values, 'ro')\n",
    "plt.title('MAE TEST USER')\n",
    "plt.ylabel('MAE VALUES')\n",
    "plt.xlabel('K VALUE')\n",
    "plt.grid(True)\n",
    "plt.show()"
   ]
  },
  {
   "cell_type": "code",
   "execution_count": 7,
   "metadata": {
    "scrolled": true
   },
   "outputs": [
    {
     "data": {
      "image/png": "[encoded data removed]",
      "text/plain": [
       "<Figure size 432x288 with 1 Axes>"
      ]
     },
     "metadata": {},
     "output_type": "display_data"
    }
   ],
   "source": [
    "# Plotting RMSE values\n",
    "plt.plot(k_values, rmseuser_values, 'ro')\n",
    "plt.title('RSME TEST USER')\n",
    "plt.ylabel('RSME VALUES')\n",
    "plt.xlabel('K VALUE')\n",
    "plt.grid(True)\n",
    "plt.show()"
   ]
  },
  {
   "cell_type": "markdown",
   "metadata": {},
   "source": [
    "**Conclusión**\n",
    "```\n",
    "-Usando K=10  obtenemos: MAE=0.78 y RMSE= 0.99.\n",
    "-Usando K=50  obtenemos: MAE=0.74 y RMSE=0.95.\n",
    "-Usando K=100 obtenemos: MAE=0.74 y RMSE=0.95.\n",
    "```\n",
    "    Al utilizar un K =50, en este caso, con este algotirmo, tanto MAE como RSME son menores, por lo que el mejor K sería 50."
   ]
  },
  {
   "cell_type": "code",
   "execution_count": 8,
   "metadata": {},
   "outputs": [
    {
     "name": "stdout",
     "output_type": "stream",
     "text": [
      "-> training model for k =10\n",
      "training time: 9.597965000000045\n",
      "-> individual test\n",
      "user 457, item 443, prediction 4.500632286071777\n",
      "recommendation for user 457: ['1449', '1367', '1639', '1642', '119']\n",
      "-> prediction test\n",
      "prediction time: 7.659044999999992\n",
      "MAE: 0.7828952915105929\n",
      "RMSE: 0.9946687256820582\n",
      "-> recommendation test\n",
      "recommendation time: 217.21522100000004\n",
      "-> training model for k =50\n",
      "training time: 9.71841500000005\n",
      "-> individual test\n",
      "user 457, item 443, prediction 4.4030632972717285\n",
      "recommendation for user 457: ['1367', '1642', '1449', '1594', '850']\n",
      "-> prediction test\n",
      "prediction time: 6.013672000000042\n",
      "MAE: 0.7496633748812664\n",
      "RMSE: 0.9537725173764953\n",
      "-> recommendation test\n",
      "recommendation time: 224.7535089999999\n",
      "-> training model for k =100\n",
      "training time: 10.136164000000008\n",
      "-> individual test\n",
      "user 457, item 443, prediction 4.424063682556152\n",
      "recommendation for user 457: ['1367', '1449', '1642', '1594', '850']\n",
      "-> prediction test\n",
      "prediction time: 7.189137999999957\n",
      "MAE: 0.7478900193381977\n",
      "RMSE: 0.9513445209906717\n",
      "-> recommendation test\n",
      "recommendation time: 235.16066499999988\n"
     ]
    }
   ],
   "source": [
    "# Runs ItemKnn\n",
    "k_values = [10, 50, 100]\n",
    "maeItem_values = []\n",
    "rmseItem_values = []\n",
    "\n",
    "for k in k_values:\n",
    "    from src import testItemKnn\n",
    "    maeItem, rmseItem = testItemKnn.main(k=k)\n",
    "    maeItem_values.append(maeItem)\n",
    "    rmseItem_values.append(rmseItem)"
   ]
  },
  {
   "cell_type": "code",
   "execution_count": 9,
   "metadata": {},
   "outputs": [
    {
     "data": {
      "image/png": "[encoded data removed]",
      "text/plain": [
       "<Figure size 432x288 with 1 Axes>"
      ]
     },
     "metadata": {},
     "output_type": "display_data"
    }
   ],
   "source": [
    "# Plot MAE values for different value of K\n",
    "plt.plot(k_values, maeItem_values, 'ro')\n",
    "plt.title('MAE TEST ITEM')\n",
    "plt.ylabel('MAE VALUES')\n",
    "plt.xlabel('K VALUE')\n",
    "plt.grid(True)\n",
    "plt.show()"
   ]
  },
  {
   "cell_type": "code",
   "execution_count": 10,
   "metadata": {},
   "outputs": [
    {
     "data": {
      "image/png": "[encoded data removed]",
      "text/plain": [
       "<Figure size 432x288 with 1 Axes>"
      ]
     },
     "metadata": {},
     "output_type": "display_data"
    }
   ],
   "source": [
    "# Plot RMSE values for different value of K\n",
    "plt.plot(k_values, rmseItem_values, 'ro')\n",
    "plt.title('RSME TEST ITEM')\n",
    "plt.ylabel('RSME VALUES')\n",
    "plt.xlabel('K VALUE')\n",
    "plt.grid(True)\n",
    "plt.show()"
   ]
  },
  {
   "cell_type": "markdown",
   "metadata": {},
   "source": [
    "**Pregunta**\n",
    "En la celda anterior debe modificar el código para que ejecutar Item KNN modificando el parámetro de la vencidad **K**. ¿Cuál es el efecto del parametro **K** en el valor de RMSE y MAE? Grafique el resultado utilizando la librería `matplotlib`.\n",
    "\n",
    "**Respuesta**\n",
    "```\n",
    "-Usando K=10  obtenemos: MAE=0.78 y RMSE= 0.99.\n",
    "-Usando K=50  obtenemos: MAE=0.74 y RMSE=0.95.\n",
    "-Usando K=100 obtenemos: MAE=0.74 y RMSE=0.95.\n",
    "```\n",
    "    Al utilizar un K mayor, en este caso, con este algotirmo, tanto MAE como RSME son menores, por lo que el mejor K sería 100."
   ]
  },
  {
   "cell_type": "code",
   "execution_count": 11,
   "metadata": {},
   "outputs": [
    {
     "name": "stdout",
     "output_type": "stream",
     "text": [
      "-> training model with Number of Latent Factors = 100\n",
      "training time: 4.474866999999904\n",
      "-> individual test\n",
      "user 457, item 443, prediction 4.424098014831543\n",
      "recommendation for user 457: ['1449', '408', '1467', '1142', '1131']\n",
      "-> prediction test\n",
      "prediction time: 0.1595990000000711\n",
      "MAE: 0.7322966660931547\n",
      "RMSE: 0.9252059913751017\n",
      "-> recommendation test\n",
      "recommendation time: 0.7390669999999773\n",
      "-> training model with Number of Latent Factors = 250\n",
      "training time: 10.537734\n",
      "-> individual test\n",
      "user 457, item 443, prediction 4.376009464263916\n",
      "recommendation for user 457: ['1449', '408', '603', '513', '480']\n",
      "-> prediction test\n",
      "prediction time: 0.1554799999998977\n",
      "MAE: 0.7312375316116794\n",
      "RMSE: 0.923136914281739\n",
      "-> recommendation test\n",
      "recommendation time: 0.8539290000001074\n",
      "-> training model with Number of Latent Factors = 500\n",
      "training time: 19.585037000000057\n",
      "-> individual test\n",
      "user 457, item 443, prediction 4.404080867767334\n",
      "recommendation for user 457: ['1449', '408', '513', '1642', '603']\n",
      "-> prediction test\n",
      "prediction time: 0.2129090000000815\n",
      "MAE: 0.7305201063608519\n",
      "RMSE: 0.9223884037599825\n",
      "-> recommendation test\n",
      "recommendation time: 1.0955559999999878\n",
      "-> training model with Number of Latent Factors = 750\n",
      "training time: 28.346039999999903\n",
      "-> individual test\n",
      "user 457, item 443, prediction 4.390681743621826\n",
      "recommendation for user 457: ['1449', '408', '513', '480', '603']\n",
      "-> prediction test\n",
      "prediction time: 0.1847219999999652\n",
      "MAE: 0.7311944350141092\n",
      "RMSE: 0.9228143370393245\n",
      "-> recommendation test\n",
      "recommendation time: 1.3492980000000898\n",
      "-> training model with Number of Latent Factors = 1000\n",
      "training time: 38.59807499999988\n",
      "-> individual test\n",
      "user 457, item 443, prediction 4.404746055603027\n",
      "recommendation for user 457: ['408', '1449', '1642', '513', '480']\n",
      "-> prediction test\n",
      "prediction time: 0.1881590000000415\n",
      "MAE: 0.7310788683050355\n",
      "RMSE: 0.9225008930116988\n",
      "-> recommendation test\n",
      "recommendation time: 1.548720000000003\n",
      "-> training model with Number of Latent Factors = 1250\n",
      "training time: 48.077572000000146\n",
      "-> individual test\n",
      "user 457, item 443, prediction 4.4008026123046875\n",
      "recommendation for user 457: ['408', '1449', '513', '603', '480']\n",
      "-> prediction test\n",
      "prediction time: 0.2035129999999299\n",
      "MAE: 0.7319103385386624\n",
      "RMSE: 0.9233838661029788\n",
      "-> recommendation test\n",
      "recommendation time: 1.8034079999999904\n",
      "-> training model with Number of Latent Factors = 1500\n",
      "training time: 63.34091599999988\n",
      "-> individual test\n",
      "user 457, item 443, prediction 4.388041019439697\n",
      "recommendation for user 457: ['408', '1449', '513', '603', '480']\n",
      "-> prediction test\n",
      "prediction time: 0.5574919999999111\n",
      "MAE: 0.7316192161566225\n",
      "RMSE: 0.9229921904284943\n",
      "-> recommendation test\n",
      "recommendation time: 3.247875000000022\n",
      "-> training model with Number of Latent Factors = 1750\n",
      "training time: 70.4863190000001\n",
      "-> individual test\n",
      "user 457, item 443, prediction 4.397731304168701\n",
      "recommendation for user 457: ['408', '1449', '513', '480', '603']\n",
      "-> prediction test\n",
      "prediction time: 0.24604199999998855\n",
      "MAE: 0.7312427454539576\n",
      "RMSE: 0.9229126145978185\n",
      "-> recommendation test\n",
      "recommendation time: 2.7357600000000275\n",
      "-> training model with Number of Latent Factors = 2000\n",
      "training time: 82.40789100000006\n",
      "-> individual test\n",
      "user 457, item 443, prediction 4.398195743560791\n",
      "recommendation for user 457: ['408', '1449', '513', '480', '603']\n",
      "-> prediction test\n",
      "prediction time: 0.27372600000012426\n",
      "MAE: 0.7319635738086196\n",
      "RMSE: 0.9234116960521114\n",
      "-> recommendation test\n",
      "recommendation time: 2.7909910000000764\n"
     ]
    }
   ],
   "source": [
    "# Bonus: Runs Singular Value Decomposition algorithm\n",
    "f_values = [100, 250, 500, 750, 1000, 1250, 1500, 1750, 2000]\n",
    "maeSvd_values = []\n",
    "rmseSvd_values = []\n",
    "\n",
    "for f in f_values:\n",
    "    from src import testFunkSvd\n",
    "    maeSvd, rmseSvd = testFunkSvd.main(factors=f)\n",
    "    maeSvd_values.append(maeSvd)\n",
    "    rmseSvd_values.append(rmseSvd)"
   ]
  },
  {
   "cell_type": "code",
   "execution_count": 12,
   "metadata": {
    "scrolled": true
   },
   "outputs": [
    {
     "data": {
      "image/png": "[encoded data removed]",
      "text/plain": [
       "<Figure size 432x288 with 1 Axes>"
      ]
     },
     "metadata": {},
     "output_type": "display_data"
    }
   ],
   "source": [
    "# Plot MAE values for different value of K\n",
    "#plt.plot(f_values, maeSvd_values, 'ro')\n",
    "plt.title('MAE for Singular Value Decomposition Algorithm')\n",
    "plt.ylabel('MAE VALUES')\n",
    "plt.xlabel('Number of Latent Factors')\n",
    "plt.grid(True)\n",
    "plt.plot(f_values, maeSvd_values, linewidth=2.0, color='r')\n",
    "plt.show()"
   ]
  },
  {
   "cell_type": "code",
   "execution_count": 13,
   "metadata": {
    "scrolled": true
   },
   "outputs": [
    {
     "data": {
      "image/png": "[encoded data removed]",
      "text/plain": [
       "<Figure size 432x288 with 1 Axes>"
      ]
     },
     "metadata": {},
     "output_type": "display_data"
    }
   ],
   "source": [
    "# Plot RMSE values for different value of K\n",
    "#plt.plot(f_values, rmseSvd_values, 'ro')\n",
    "plt.plot(f_values, rmseSvd_values, linewidth=2.0, color='r')\n",
    "plt.title('RSME for Singular Value Decomposition Algorithm')\n",
    "plt.ylabel('RSME VALUES')\n",
    "plt.xlabel('Number of Latent Factors')\n",
    "plt.grid(True)\n",
    "plt.show()"
   ]
  },
  {
   "cell_type": "markdown",
   "metadata": {},
   "source": [
    "**Conslusión**\n",
    "```\n",
    "Resumen de los resultados:\n",
    "Number of Latent Factors = 100    MAE: 0.7322966660931547   RMSE: 0.9252059913751017\n",
    "Number of Latent Factors = 250    MAE: 0.7312375316116794   RMSE: 0.923136914281739\n",
    "Number of Latent Factors = 500    MAE: 0.7305201063608519   RMSE: 0.9223884037599825\n",
    "Number of Latent Factors = 750    MAE: 0.7311944350141092   RMSE: 0.9228143370393245\n",
    "Number of Latent Factors = 1000   MAE: 0.7310788683050355   RMSE: 0.9225008930116988\n",
    "Number of Latent Factors = 1250   MAE: 0.7319103385386624   RMSE: 0.9233838661029788\n",
    "Number of Latent Factors = 1500   MAE: 0.7316192161566225   RMSE: 0.9229921904284943\n",
    "Number of Latent Factors = 1750   MAE: 0.7312427454539576   RMSE: 0.9229126145978185\n",
    "Number of Latent Factors = 2000   MAE: 0.7319635738086196   RMSE: 0.9234116960521114\n",
    "```\n",
    "Si bien los resultados de los coeficientes de error MAE y RMSE son bastante silimares (difieren recién al tercer decimal), el mejor factor, de entre los ejecutados es 500.\n"
   ]
  }
 ],
 "metadata": {
  "kernelspec": {
   "display_name": "Python 3",
   "language": "python",
   "name": "python3"
  },
  "language_info": {
   "codemirror_mode": {
    "name": "ipython",
    "version": 3
   },
   "file_extension": ".py",
   "mimetype": "text/x-python",
   "name": "python",
   "nbconvert_exporter": "python",
   "pygments_lexer": "ipython3",
   "version": "3.5.2"
  }
 },
 "nbformat": 4,
 "nbformat_minor": 2
}
